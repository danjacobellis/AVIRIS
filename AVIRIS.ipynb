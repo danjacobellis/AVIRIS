{
 "cells": [
  {
   "cell_type": "markdown",
   "id": "6e4eb87d-47d8-4a15-8996-20a0dc49809a",
   "metadata": {},
   "source": [
    "https://aviris.jpl.nasa.gov/dataportal/"
   ]
  },
  {
   "cell_type": "code",
   "execution_count": 1,
   "id": "fabe5e05-18db-482d-94f9-772a69f9f158",
   "metadata": {},
   "outputs": [],
   "source": [
    "import requests\n",
    "import tarfile\n",
    "import re\n",
    "import csv\n",
    "import numpy as np\n",
    "import torch\n",
    "from torchvision import transforms\n",
    "from IPython.display import display\n",
    "from datasets import Dataset, concatenate_datasets, Features, Array3D"
   ]
  },
  {
   "cell_type": "code",
   "execution_count": 2,
   "id": "bc5586f1-4c94-4cdc-b945-8f0a90208a8f",
   "metadata": {},
   "outputs": [],
   "source": [
    "def is_header(filename):\n",
    "    return filename.endswith('_img.hdr')\n",
    "def is_data(filename):\n",
    "    return filename.endswith('_img')\n",
    "def get_size(header):\n",
    "    nsamp_match = re.search(r\"samples\\s*=\\s*(\\d+)\", header)\n",
    "    nlines_match = re.search(r\"lines\\s*=\\s*(\\d+)\", header)\n",
    "    nbands_match = re.search(r\"bands\\s*=\\s*(\\d+)\", header)\n",
    "    nsamp = int(nsamp_match.group(1))\n",
    "    nlines = int(nlines_match.group(1))\n",
    "    nbands = int(nbands_match.group(1))\n",
    "    return nsamp, nlines, nbands\n",
    "def pt_to_pil(t):\n",
    "    t = t+0.5\n",
    "    t = t*255\n",
    "    t = torch.clamp(t, min=-0.49, max=255.49)\n",
    "    t = t.round()\n",
    "    t = t.to(torch.uint8)\n",
    "    return t\n",
    "def visualize_hyper(x):\n",
    "    z = torch.tensor(x[[20,100,180],:,:])\n",
    "    z = z.to(torch.float)\n",
    "    z = z - z.mean()\n",
    "    z = 3 * z / z.std()\n",
    "    z = torch.clamp(z,min=-3,max=3)\n",
    "    z = z / 6\n",
    "    display(transforms.ToPILImage()(pt_to_pil(z)))\n",
    "def is_empty(x):\n",
    "    z = torch.tensor(x)\n",
    "    z = z.to(torch.float)\n",
    "    z = z - z.mean()\n",
    "    z = 3 * z / z.std()\n",
    "    z = torch.clamp(z,min=-3,max=3)\n",
    "    z = z / 6\n",
    "    empty = False\n",
    "    if (z.std()<0.3 or torch.isnan(z.std())):\n",
    "        empty = True\n",
    "    return empty"
   ]
  },
  {
   "cell_type": "code",
   "execution_count": 3,
   "id": "99b1f63d-4c1b-423c-afeb-e2a4c62a588b",
   "metadata": {},
   "outputs": [],
   "source": [
    "url_list = []\n",
    "with open('aviris_2010_2011.csv', 'r') as csvfile:\n",
    "    csvreader = csv.reader(csvfile)\n",
    "    for row in csvreader:\n",
    "        url = row[0]\n",
    "        url_list.append(url)"
   ]
  },
  {
   "cell_type": "code",
   "execution_count": null,
   "id": "74a0d567-8ce0-45d1-a1f4-057b1c489354",
   "metadata": {},
   "outputs": [
    {
     "name": "stdout",
     "output_type": "stream",
     "text": [
      "downloading https://popo.jpl.nasa.gov/avcl/y11_data/f110504t01p00r04.tar.gz ...\n"
     ]
    }
   ],
   "source": [
    "for batch in range(40):\n",
    "    try:\n",
    "        start_ind = 5*batch\n",
    "        end_ind = start_ind+5\n",
    "        dataset_list = []\n",
    "        for url in url_list[start_ind:end_ind]:\n",
    "            try:\n",
    "                print(\"downloading\",url,\"...\")\n",
    "                response = requests.get(url)\n",
    "                with open(url[-23:], 'wb') as f:\n",
    "                    f.write(response.content)\n",
    "                with tarfile.open(url[-23:], 'r:gz') as tar:\n",
    "                    names = tar.getnames()\n",
    "                    header = next(filter(is_header, names), None)   \n",
    "                    header = tar.extractfile(header)\n",
    "                    header = header.read().decode('utf-8')\n",
    "                    nsamp, nlines, nbands = get_size(header)\n",
    "                    shape = (nlines, nsamp, nbands)\n",
    "                    dtype = np.int16\n",
    "                    data = next(filter(is_data, names), None)\n",
    "                    x = tar.extractfile(data).read()\n",
    "                    x = np.frombuffer(x, dtype=dtype)\n",
    "                    x = x.reshape(shape)\n",
    "                    x = x.transpose((2,0,1))\n",
    "                    C, H, W = x.shape\n",
    "                    new_H = (H // 256) * 256\n",
    "                    new_W = (W // 256) * 256\n",
    "                    start_H = (H - new_H) // 2\n",
    "                    start_W = (W - new_W) // 2\n",
    "                    y = x[:, start_H:start_H + new_H, start_W:start_W + new_W]\n",
    "                    tiles = []\n",
    "                    for h in range(0, new_H, 256):\n",
    "                        for w in range(0, new_W, 256):\n",
    "                            tile = y[:, h:h+256, w:w+256]\n",
    "                            if not is_empty(tile):\n",
    "                                tiles.append(tile)\n",
    "                    features = Features({'hyperspectral': Array3D(shape=(224, 256, 256), dtype='int16')})\n",
    "                    dataset = Dataset.from_dict({\"hyperspectral\": tiles}, features=features)\n",
    "                    dataset_list.append(dataset)\n",
    "            except:\n",
    "                pass\n",
    "        dataset = concatenate_datasets(dataset_list)\n",
    "        dataset = dataset.with_format(\"torch\")\n",
    "        dataset.push_to_hub(\"danjacobellis_AVIRIS_256\",split=f\"batch{batch}\")\n",
    "    except:\n",
    "        pass"
   ]
  }
 ],
 "metadata": {
  "kernelspec": {
   "display_name": "Python 3 (ipykernel)",
   "language": "python",
   "name": "python3"
  },
  "language_info": {
   "codemirror_mode": {
    "name": "ipython",
    "version": 3
   },
   "file_extension": ".py",
   "mimetype": "text/x-python",
   "name": "python",
   "nbconvert_exporter": "python",
   "pygments_lexer": "ipython3",
   "version": "3.10.12"
  }
 },
 "nbformat": 4,
 "nbformat_minor": 5
}
